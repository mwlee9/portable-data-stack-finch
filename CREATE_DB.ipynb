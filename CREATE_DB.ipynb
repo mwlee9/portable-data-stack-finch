{
 "cells": [
  {
   "cell_type": "code",
   "execution_count": 2,
   "id": "6b64bd30-83da-47c5-aaa5-eb4852f09280",
   "metadata": {},
   "outputs": [],
   "source": [
    "import duckdb\n",
    "con = duckdb.connect(\"sample.db\")"
   ]
  },
  {
   "cell_type": "code",
   "execution_count": 3,
   "id": "15395cd5-245d-4981-8ab0-9d7690894169",
   "metadata": {},
   "outputs": [
    {
     "data": {
      "text/plain": [
       "'/workspaces/volumes'"
      ]
     },
     "execution_count": 3,
     "metadata": {},
     "output_type": "execute_result"
    }
   ],
   "source": [
    "import os\n",
    "os.getcwd()\n",
    "# duckdb:////workspaces//volumes//sample.db"
   ]
  },
  {
   "cell_type": "code",
   "execution_count": 11,
   "id": "34cc4a41-0679-4c91-abc5-4646f706e769",
   "metadata": {},
   "outputs": [],
   "source": [
    "con.sql(\"DROP TABLE IF EXISTS iris;\")\n",
    "con.sql(\"CREATE TABLE iris AS SELECT * FROM read_csv_auto('iris_modified.csv');\")"
   ]
  },
  {
   "cell_type": "code",
   "execution_count": 12,
   "id": "761e13b2-9a06-4129-b9eb-33c8a1560323",
   "metadata": {},
   "outputs": [
    {
     "data": {
      "text/plain": [
       "┌───────┬───────────────┬──────────────┬───────────────┬──────────────┬────────────────┬────────────┐\n",
       "│  Id   │ SepalLengthCm │ SepalWidthCm │ PetalLengthCm │ PetalWidthCm │    Species     │    Date    │\n",
       "│ int64 │    double     │    double    │    double     │    double    │    varchar     │    date    │\n",
       "├───────┼───────────────┼──────────────┼───────────────┼──────────────┼────────────────┼────────────┤\n",
       "│     1 │           5.1 │          3.5 │           1.4 │          0.2 │ Iris-setosa    │ 2023-09-06 │\n",
       "│     2 │           4.9 │          3.0 │           1.4 │          0.2 │ Iris-setosa    │ 2023-09-07 │\n",
       "│     3 │           4.7 │          3.2 │           1.3 │          0.2 │ Iris-setosa    │ 2023-09-08 │\n",
       "│     4 │           4.6 │          3.1 │           1.5 │          0.2 │ Iris-setosa    │ 2023-09-09 │\n",
       "│     5 │           5.0 │          3.6 │           1.4 │          0.2 │ Iris-setosa    │ 2023-09-10 │\n",
       "│     6 │           5.4 │          3.9 │           1.7 │          0.4 │ Iris-setosa    │ 2023-09-11 │\n",
       "│     7 │           4.6 │          3.4 │           1.4 │          0.3 │ Iris-setosa    │ 2023-09-12 │\n",
       "│     8 │           5.0 │          3.4 │           1.5 │          0.2 │ Iris-setosa    │ 2023-09-13 │\n",
       "│     9 │           4.4 │          2.9 │           1.4 │          0.2 │ Iris-setosa    │ 2023-09-14 │\n",
       "│    10 │           4.9 │          3.1 │           1.5 │          0.1 │ Iris-setosa    │ 2023-09-15 │\n",
       "│     · │            ·  │           ·  │            ·  │           ·  │      ·         │     ·      │\n",
       "│     · │            ·  │           ·  │            ·  │           ·  │      ·         │     ·      │\n",
       "│     · │            ·  │           ·  │            ·  │           ·  │      ·         │     ·      │\n",
       "│   141 │           6.7 │          3.1 │           5.6 │          2.4 │ Iris-virginica │ 2024-01-24 │\n",
       "│   142 │           6.9 │          3.1 │           5.1 │          2.3 │ Iris-virginica │ 2024-01-25 │\n",
       "│   143 │           5.8 │          2.7 │           5.1 │          1.9 │ Iris-virginica │ 2024-01-26 │\n",
       "│   144 │           6.8 │          3.2 │           5.9 │          2.3 │ Iris-virginica │ 2024-01-27 │\n",
       "│   145 │           6.7 │          3.3 │           5.7 │          2.5 │ Iris-virginica │ 2024-01-28 │\n",
       "│   146 │           6.7 │          3.0 │           5.2 │          2.3 │ Iris-virginica │ 2024-01-29 │\n",
       "│   147 │           6.3 │          2.5 │           5.0 │          1.9 │ Iris-virginica │ 2024-01-30 │\n",
       "│   148 │           6.5 │          3.0 │           5.2 │          2.0 │ Iris-virginica │ 2024-01-31 │\n",
       "│   149 │           6.2 │          3.4 │           5.4 │          2.3 │ Iris-virginica │ 2024-02-01 │\n",
       "│   150 │           5.9 │          3.0 │           5.1 │          1.8 │ Iris-virginica │ 2024-02-02 │\n",
       "├───────┴───────────────┴──────────────┴───────────────┴──────────────┴────────────────┴────────────┤\n",
       "│ 150 rows (20 shown)                                                                     7 columns │\n",
       "└───────────────────────────────────────────────────────────────────────────────────────────────────┘"
      ]
     },
     "execution_count": 12,
     "metadata": {},
     "output_type": "execute_result"
    }
   ],
   "source": [
    "con.sql(\"SELECT * FROM iris\")"
   ]
  }
 ],
 "metadata": {
  "kernelspec": {
   "display_name": "Python 3 (ipykernel)",
   "language": "python",
   "name": "python3"
  },
  "language_info": {
   "codemirror_mode": {
    "name": "ipython",
    "version": 3
   },
   "file_extension": ".py",
   "mimetype": "text/x-python",
   "name": "python",
   "nbconvert_exporter": "python",
   "pygments_lexer": "ipython3",
   "version": "3.9.16"
  }
 },
 "nbformat": 4,
 "nbformat_minor": 5
}
